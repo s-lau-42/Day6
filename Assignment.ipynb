{
 "cells": [
  {
   "cell_type": "markdown",
   "metadata": {},
   "source": [
    "### Part 1 Function into Class"
   ]
  },
  {
   "cell_type": "code",
   "execution_count": 98,
   "metadata": {},
   "outputs": [],
   "source": [
    "class TipOutTracker():\n",
    "    \n",
    "    def __init__(self, default_tip, bill=0):\n",
    "        self.__bill = bill\n",
    "        self.tip = default_tip\n",
    "        self.total = 0\n",
    "        self.tip_counter = 0\n",
    "        \n",
    "    def add_bill(self, bill, tip=None):\n",
    "        if tip == None:\n",
    "            tip = self.tip\n",
    "        self.total += bill * tip\n",
    "        self.tip_counter += 1\n",
    "\n",
    "    def total_tip_out(self):\n",
    "        return self.total\n",
    "        \n",
    "    def __len__(self):\n",
    "        return(self.tip_counter)\n",
    "    \n",
    "    def __add__(self, other):\n",
    "        #Not sure if it works to initialize a new Instance of the class here so you \n",
    "        # can possibly work with it\n",
    "        tot_total = TipOutTracker(0.18)\n",
    "        tot_total.total = self.total + other.total\n",
    "        tot_total.counter = self.tip_counter + other.tip_counter\n",
    "\n",
    "        \n",
    "        print(tot_total.total)\n",
    "        return(tot_total.total, tot_total.counter)\n",
    "    \n",
    "    #def __add__(self, other):\n",
    "        #Not sure if it works to initialize a new Instance of the class here so you \n",
    "        # can possibly work with it\n",
    "        #name = str(self) + str(other)\n",
    "        #tot_name = TipOutTracker(0.18)\n",
    "        #tot_name.total = self.total + other.total\n",
    "        #tot_name.counter = self.tip_counter + other.tip_counter\n",
    "\n",
    "        \n",
    "        #print(tot_name.total)\n",
    "        #return(tot_name.total, tot_name.counter)\n"
   ]
  },
  {
   "cell_type": "code",
   "execution_count": 100,
   "metadata": {},
   "outputs": [
    {
     "name": "stdout",
     "output_type": "stream",
     "text": [
      "14.519399999999997\n",
      "30.807399999999998\n",
      "3\n",
      "38.6386\n"
     ]
    },
    {
     "ename": "NameError",
     "evalue": "name 'tottot2' is not defined",
     "output_type": "error",
     "traceback": [
      "\u001b[0;31m---------------------------------------------------------------------------\u001b[0m",
      "\u001b[0;31mNameError\u001b[0m                                 Traceback (most recent call last)",
      "\u001b[0;32m<ipython-input-100-d0ea27fbaf9c>\u001b[0m in \u001b[0;36m<module>\u001b[0;34m()\u001b[0m\n\u001b[1;32m     13\u001b[0m \u001b[0mtot\u001b[0m\u001b[0;34m+\u001b[0m\u001b[0mtot2\u001b[0m\u001b[0;34m\u001b[0m\u001b[0m\n\u001b[1;32m     14\u001b[0m \u001b[0;34m\u001b[0m\u001b[0m\n\u001b[0;32m---> 15\u001b[0;31m \u001b[0mtottot2\u001b[0m\u001b[0;34m.\u001b[0m\u001b[0mself_total\u001b[0m\u001b[0;34m\u001b[0m\u001b[0m\n\u001b[0m",
      "\u001b[0;31mNameError\u001b[0m: name 'tottot2' is not defined"
     ]
    }
   ],
   "source": [
    "tot = TipOutTracker(0.18)\n",
    "tot.add_bill(58.90, 0.15)\n",
    "tot.add_bill(31.58)\n",
    "print(tot.total_tip_out())\n",
    "tot.add_bill(81.44, 0.20)\n",
    "print(tot.total_tip_out())\n",
    "print(len(tot))\n",
    "\n",
    "tot2 = TipOutTracker(0.18)\n",
    "tot2.add_bill(60.24, 0.13)\n",
    "tot2.total_tip_out()\n",
    "\n",
    "tot+tot2\n",
    "\n",
    "tottot2.self_total"
   ]
  },
  {
   "cell_type": "markdown",
   "metadata": {},
   "source": [
    "### Part 2 - Classes from Scratch\n",
    "Now that you have a little bit of practice working through a problem that takes moves functions into a class, you're going to get some practice solving a problem from scratch, using OOP.\n",
    "This time you are going to create a class that allows you to keep track of a to-do list. The kinds of things that we'd want to be able to do with a to-do list (no pun intended) are:\n",
    "Add a to-do item.\n",
    "Mark a to-do item as completed and remove it.\n",
    "Have the length of the to-do list return the number of items you have to do.\n",
    "As you work through this problem, a good place to start is by thinking about how you'd want to use this class. If you were to be given a ToDoList class, how would you want to use it? Go ahead and write up a test case where you \"use\" the class that you're about to write. This will help get you into the mindset of how the class will actually work.\n",
    "With that in mind, you're going to want to answer the same questions that were posed before:\n",
    "What are the attributes (data) that you are going to store on the class?\n",
    "What are the methods (functions) that you are going to operate on the attributes with?\n",
    "Once you have an idea about the answers to these two questions, you'll be in a great place to start writing some code!"
   ]
  },
  {
   "cell_type": "code",
   "execution_count": 10,
   "metadata": {},
   "outputs": [],
   "source": [
    "class ToDoList():\n",
    "    \n",
    "    def __init__(self):\n",
    "        self.to_do = []\n",
    "        self.completed = []\n",
    "        \n",
    "        \n",
    "    def add_td(self, to_do):\n",
    "        self.to_do.append(to_do)\n",
    "        \n",
    "    \n",
    "    def did_td(self, to_do):\n",
    "        if to_do in self.to_do:\n",
    "            self.completed.append(to_do)\n",
    "            self.to_do.remove(to_do)\n",
    "                        \n",
    "        else:\n",
    "            print(\"This to-do hasn\\'t been set yet.\")\n",
    "        \n",
    "    def completed_ls(self):\n",
    "        counter_list = 1\n",
    "        print(\"List of finished to-do\\'s': \")\n",
    "        for i in self.completed:\n",
    "            print(\"Finished task \" + str(counter_list) + \": \" + str(i))\n",
    "            counter_list += 1\n",
    "        \n",
    "        \n",
    "    def __len__(self):\n",
    "        return len(self.to_do)\n",
    "    \n",
    "    def td_list(self):\n",
    "        counter_list = 1\n",
    "        print(\"Current to-do list: \")\n",
    "        for i in self.to_do:\n",
    "            print(\"Task \" + str(counter_list) + \": \" + str(i))\n",
    "            counter_list += 1\n"
   ]
  },
  {
   "cell_type": "code",
   "execution_count": 11,
   "metadata": {},
   "outputs": [
    {
     "name": "stdout",
     "output_type": "stream",
     "text": [
      "List of finished to-do's': \n",
      "Finished task 1: Sports\n",
      "Current to-do list: \n",
      "Task 1: cooking\n",
      "Task 2: showering\n",
      "Task 3: sleeping\n"
     ]
    }
   ],
   "source": [
    "tdlist = ToDoList()\n",
    "tdlist.add_td(\"Sports\")\n",
    "tdlist.add_td(\"cooking\")\n",
    "tdlist.add_td(\"showering\")\n",
    "tdlist.add_td(\"sleeping\")\n",
    "tdlist.to_do\n",
    "tdlist.did_td(\"Sports\")\n",
    "tdlist.to_do\n",
    "tdlist.completed_ls()\n",
    "tdlist.td_list()\n",
    "\n"
   ]
  },
  {
   "cell_type": "markdown",
   "metadata": {},
   "source": [
    "### Part 3 - Times Not to Use Classes"
   ]
  },
  {
   "cell_type": "code",
   "execution_count": 54,
   "metadata": {},
   "outputs": [
    {
     "name": "stdout",
     "output_type": "stream",
     "text": [
      "35100\n",
      "892\n"
     ]
    },
    {
     "data": {
      "text/plain": [
       "892"
      ]
     },
     "execution_count": 54,
     "metadata": {},
     "output_type": "execute_result"
    }
   ],
   "source": [
    "#def count_words(x):\n",
    "#    num_words = 0\n",
    "#    for line in x:\n",
    "#        num_words += len(line.split())\n",
    "#    print(num_words)\n",
    "#    return num_words\n",
    "\n",
    "#with open(\"misc/books/flatland.txt\") as book:\n",
    "#    data=book.read()\n",
    "#    count_words(data)\n",
    "#with open(\"misc/books/programming_languages.txt\") as book:\n",
    "#    data=book.read()\n",
    "#    count_words(data)    \n",
    "\n",
    "def count_words(x):\n",
    "    num_words = 0\n",
    "    with open(x, \"r\") as book:\n",
    "        for line in book:\n",
    "            num_words += len(line.split())\n",
    "    print(num_words)\n",
    "    return num_words\n",
    "\n",
    "count_words('misc/books/flatland.txt')\n",
    "count_words(\"misc/books/programming_languages.txt\")"
   ]
  },
  {
   "cell_type": "markdown",
   "metadata": {},
   "source": [
    "## Extra credit  nr 4:"
   ]
  },
  {
   "cell_type": "code",
   "execution_count": 49,
   "metadata": {},
   "outputs": [],
   "source": [
    "class ToDoList2():\n",
    "    \n",
    "    def __init__(self):\n",
    "        self.to_do = dict()\n",
    "        self.completed = []\n",
    "        \n",
    "        \n",
    "    def add_td(self, to_do, prio):\n",
    "        self.to_do[to_do] = prio\n",
    "        #print(sorted(self.to_do, key=lambda k: self.to_do[k]))\n",
    "        \n",
    "    \n",
    "    def did_td(self, to_do):\n",
    "        if to_do in self.to_do:\n",
    "            self.completed.append(to_do)\n",
    "            del self.to_do[to_do]\n",
    "                        \n",
    "        else:\n",
    "            print(\"This to-do hasn\\'t been set yet.\")\n",
    "        \n",
    "    def completed_ls(self):\n",
    "        counter_list = 1\n",
    "        print(\"List of finished to-do\\'s': \")\n",
    "        for i in self.completed:\n",
    "            print(\"Finished task \" + str(counter_list) + \": \" + str(i))\n",
    "            counter_list += 1\n",
    "        \n",
    "        \n",
    "    def __len__(self):\n",
    "        return len(self.to_do)\n",
    "    \n",
    "    def td_list(self):\n",
    "        counter_list = 1\n",
    "        print(\"Current to-do list: \")\n",
    "        for i in sorted(self.to_do, key=lambda k: self.to_do[k]):\n",
    "            print(\"Task \" + str(counter_list) + \" / Priority \" + str(self.to_do[i]) + \": \" + str(i) )\n",
    "            counter_list += 1\n",
    "\n"
   ]
  },
  {
   "cell_type": "code",
   "execution_count": 52,
   "metadata": {},
   "outputs": [
    {
     "name": "stdout",
     "output_type": "stream",
     "text": [
      "Current to-do list: \n",
      "Task 1 / Priority 1: sleeping\n",
      "Task 2 / Priority 2: cooking\n",
      "Task 3 / Priority 7: showering\n"
     ]
    }
   ],
   "source": [
    "tdlist = ToDoList2()\n",
    "tdlist.add_td(\"Sports\", 3)\n",
    "tdlist.add_td(\"cooking\", 2)\n",
    "tdlist.add_td(\"showering\", 7)\n",
    "tdlist.add_td(\"sleeping\", 1)\n",
    "#tdlist.to_do\n",
    "tdlist.did_td(\"Sports\")\n",
    "#tdlist.to_do\n",
    "#tdlist.completed_ls()\n",
    "tdlist.td_list()\n",
    "\n"
   ]
  },
  {
   "cell_type": "code",
   "execution_count": null,
   "metadata": {},
   "outputs": [],
   "source": []
  }
 ],
 "metadata": {
  "kernelspec": {
   "display_name": "Python [conda env:nf] *",
   "language": "python",
   "name": "conda-env-nf-py"
  },
  "language_info": {
   "codemirror_mode": {
    "name": "ipython",
    "version": 3
   },
   "file_extension": ".py",
   "mimetype": "text/x-python",
   "name": "python",
   "nbconvert_exporter": "python",
   "pygments_lexer": "ipython3",
   "version": "3.6.6"
  }
 },
 "nbformat": 4,
 "nbformat_minor": 2
}
