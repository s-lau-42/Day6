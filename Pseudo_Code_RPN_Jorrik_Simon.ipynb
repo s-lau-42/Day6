{
 "cells": [
  {
   "cell_type": "code",
   "execution_count": 7,
   "metadata": {},
   "outputs": [
    {
     "ename": "IndentationError",
     "evalue": "expected an indented block (<ipython-input-7-e83f47826a16>, line 37)",
     "output_type": "error",
     "traceback": [
      "\u001b[0;36m  File \u001b[0;32m\"<ipython-input-7-e83f47826a16>\"\u001b[0;36m, line \u001b[0;32m37\u001b[0m\n\u001b[0;31m    def main():\u001b[0m\n\u001b[0m      ^\u001b[0m\n\u001b[0;31mIndentationError\u001b[0m\u001b[0;31m:\u001b[0m expected an indented block\n"
     ]
    }
   ],
   "source": [
    "\n",
    "from collections import deque\n",
    "import math\n",
    "import operator\n",
    "ops = {'+':operator.add,\n",
    "       '-':operator.sub,\n",
    "       '*':operator.mul,\n",
    "       '/':operator.div,\n",
    "       '^':operator.pow}\n",
    "       \n",
    "#string = \"3 6 7 + - 5 6 * +\"\n",
    "\n",
    "def input():\n",
    "    inputt = input(\"input string to be calculated\")replace(\" \", \"\")\n",
    "    return inputt\n",
    "\n",
    "\n",
    "def deck(string):\n",
    "    d = deque(string)\n",
    "    return d\n",
    "\n",
    "\n",
    "def calc(deck):\n",
    "    for i in deck:\n",
    "        if i in ops.keys():\n",
    "            v1 = int(deck.popleft())\n",
    "            v2 = int(deck.popleft())\n",
    "            op = deck.popleft()\n",
    "            deck.append(i(v2,v3))\n",
    "            \n",
    "        else:\n",
    "            continue\n",
    "    \n",
    "     or while i < len(deck)\n",
    "        \n",
    "\n",
    "\n",
    "\n",
    "\n",
    "def main():\n",
    "    while  x = True:\n",
    "        call input\n",
    "        calc(input)\n",
    "        \n",
    "        if run along? == 0:\n",
    "            x = False\n",
    "        else: \n",
    "            continue"
   ]
  }
 ],
 "metadata": {
  "kernelspec": {
   "display_name": "Python [conda env:nf] *",
   "language": "python",
   "name": "conda-env-nf-py"
  },
  "language_info": {
   "codemirror_mode": {
    "name": "ipython",
    "version": 3
   },
   "file_extension": ".py",
   "mimetype": "text/x-python",
   "name": "python",
   "nbconvert_exporter": "python",
   "pygments_lexer": "ipython3",
   "version": "3.6.6"
  }
 },
 "nbformat": 4,
 "nbformat_minor": 2
}
